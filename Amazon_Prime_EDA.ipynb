{
  "nbformat": 4,
  "nbformat_minor": 0,
  "metadata": {
    "colab": {
      "private_outputs": true,
      "provenance": [],
      "include_colab_link": true
    },
    "kernelspec": {
      "name": "python3",
      "display_name": "Python 3"
    },
    "language_info": {
      "name": "python"
    }
  },
  "cells": [
    {
      "cell_type": "markdown",
      "metadata": {
        "id": "view-in-github",
        "colab_type": "text"
      },
      "source": [
        "<a href=\"https://colab.research.google.com/github/Whickd-07/Day-7/blob/main/Amazon_Prime_EDA.ipynb\" target=\"_parent\"><img src=\"https://colab.research.google.com/assets/colab-badge.svg\" alt=\"Open In Colab\"/></a>"
      ]
    },
    {
      "cell_type": "markdown",
      "source": [
        "# **Amazon Prime EDA Analysis**    \n",
        "\n"
      ],
      "metadata": {
        "id": "vncDsAP0Gaoa"
      }
    },
    {
      "cell_type": "markdown",
      "source": [
        "##### **Project Type**    - EDA\n",
        "##### **Contribution**    - Individual\n"
      ],
      "metadata": {
        "id": "beRrZCGUAJYm"
      }
    },
    {
      "cell_type": "markdown",
      "source": [
        "# **Project Summary -**"
      ],
      "metadata": {
        "id": "FJNUwmbgGyua"
      }
    },
    {
      "cell_type": "markdown",
      "source": [
        "**Exploratory Data Analysis of Amazon Prime Content**\n",
        "\n",
        "### **Project Summary**\n",
        "\n",
        "#### **Introduction**\n",
        "With the rapid expansion of the digital streaming industry, platforms like Amazon Prime Video have amassed vast libraries of movies and TV shows catering to global audiences. This project aims to perform an Exploratory Data Analysis (EDA) on Amazon Prime’s content catalog to uncover insights into content diversity, regional availability, trends over time, and viewer preferences. These insights will help stakeholders make data-driven decisions regarding content acquisition, production, and marketing strategies.\n",
        "\n",
        "#### **Objectives**\n",
        "The primary objectives of this analysis are:\n",
        "1. **Content Diversity** – Analyzing genre distribution and identifying the most common content types.\n",
        "2. **Regional Availability** – Understanding how Amazon Prime distributes its content across different countries.\n",
        "3. **Trends Over Time** – Examining the evolution of content availability based on release years.\n",
        "4. **IMDb Ratings & Popularity** – Identifying the highest-rated and most popular shows/movies on the platform.\n",
        "\n",
        "#### **Dataset Overview**\n",
        "The dataset consists of two files:\n",
        "- **titles.csv**: Contains details about movies and TV shows, including title, release year, genres, IMDb ratings, runtime, and availability in different regions.\n",
        "- **credits.csv**: Contains information about the cast and crew, linking them to specific titles.\n",
        "\n",
        "The dataset was preprocessed by handling missing values, checking for duplicates, and converting relevant columns into appropriate data types for analysis.\n",
        "\n",
        "#### **Methodology**\n",
        "1. **Data Cleaning & Preprocessing**\n",
        "   - Checked for missing values and handled them appropriately.\n",
        "   - Converted columns into appropriate formats (e.g., dates, numerical values).\n",
        "   - Removed duplicate entries to ensure data accuracy.\n",
        "   \n",
        "2. **Descriptive Analysis**\n",
        "   - Generated summary statistics to understand the distribution of numerical attributes.\n",
        "   - Visualized categorical distributions to identify trends in content type, genre, and regional availability.\n",
        "\n",
        "3. **Content Analysis**\n",
        "   - Examined the frequency of different genres.\n",
        "   - Analyzed the distribution of content types (Movies vs. TV Shows).\n",
        "   - Identified the most common genres available on Amazon Prime.\n",
        "\n",
        "4. **Temporal Trends**\n",
        "   - Investigated the number of titles released per year to determine content growth over time.\n",
        "   - Explored IMDb ratings across different release years to assess quality trends.\n",
        "\n",
        "5. **Regional Availability**\n",
        "   - Mapped content distribution across various regions.\n",
        "   - Identified countries with the most extensive and least extensive content libraries.\n",
        "\n",
        "6. **Popularity & Ratings**\n",
        "   - Analyzed the highest-rated shows and movies on the platform.\n",
        "   - Identified the most popular actors and directors contributing to Amazon Prime’s content.\n",
        "\n",
        "#### **Key Findings**\n",
        "1. **Genre Trends**:\n",
        "   - The most common genres include Drama, Comedy, and Documentary, indicating a preference for engaging and informative content.\n",
        "   - Certain genres, such as Horror and Sci-Fi, have a comparatively smaller presence.\n",
        "\n",
        "2. **Content Type Distribution**:\n",
        "   - Movies make up a significantly larger portion of Amazon Prime’s catalog compared to TV shows.\n",
        "   - The number of TV shows has been gradually increasing over the years, suggesting Amazon Prime’s growing interest in episodic content.\n",
        "\n",
        "3. **Trends Over Time**:\n",
        "   - Content production has seen a sharp increase in the past decade, aligning with the boom in streaming services.\n",
        "   - The 2000s and 2010s saw the highest number of releases, reflecting the digital transformation in media consumption.\n",
        "\n",
        "4. **Regional Insights**:\n",
        "   - The United States has the most extensive library, followed by countries like the UK, India, and Canada.\n",
        "   - Some regions have a more significant presence of localized content, reflecting Amazon’s strategy to cater to different cultural preferences.\n",
        "\n",
        "5. **IMDb Ratings & Popularity**:\n",
        "   - Top-rated content is generally clustered around Drama, Documentary, and Thriller genres.\n",
        "   - Well-known directors and actors contribute to high-rated content, making them influential in content selection.\n",
        "\n",
        "#### **Conclusion & Business Implications**\n",
        "The insights gained from this EDA project provide valuable takeaways for content strategists, marketing teams, and product managers at Amazon Prime Video. The findings suggest that:\n",
        "- Amazon Prime should continue investing in Drama and Comedy genres while exploring underrepresented genres like Sci-Fi and Horror to cater to niche audiences.\n",
        "- Content acquisition teams should focus on expanding the TV show catalog, given the increasing preference for episodic content.\n",
        "- Amazon Prime should optimize its regional content strategy by balancing global blockbusters with local content that resonates with specific markets.\n",
        "- Marketing strategies should highlight top-rated and popular titles, leveraging well-known actors and directors to attract more viewers.\n",
        "\n",
        "#### **Future Work**\n",
        "Future analyses could incorporate:\n",
        "- Sentiment analysis of viewer reviews to gain deeper insights into audience preferences.\n",
        "- Predictive modeling to forecast the success of new content based on historical data.\n",
        "- Comparative analysis with competitors like Netflix and Disney+ to benchmark Amazon Prime’s content strategy.\n",
        "\n",
        "This project demonstrates the power of data-driven decision-making in the streaming industry, enabling Amazon Prime to enhance its content portfolio, boost user engagement, and drive subscription growth.\n",
        "\n"
      ],
      "metadata": {
        "id": "F6v_1wHtG2nS"
      }
    },
    {
      "cell_type": "markdown",
      "source": [
        "# **GitHub Link -**"
      ],
      "metadata": {
        "id": "w6K7xa23Elo4"
      }
    },
    {
      "cell_type": "markdown",
      "source": [
        "https://github.com/Whickd-07"
      ],
      "metadata": {
        "id": "h1o69JH3Eqqn"
      }
    },
    {
      "cell_type": "markdown",
      "source": [
        "# **Problem Statement**\n"
      ],
      "metadata": {
        "id": "yQaldy8SH6Dl"
      }
    },
    {
      "cell_type": "markdown",
      "source": [
        "### **Summary of the Problem Statement**  \n",
        "\n",
        "This Exploratory Data Analysis (EDA) project aims to analyze Amazon Prime’s TV shows and movies dataset to extract meaningful insights. The key objectives include:  \n",
        "\n",
        "1. **Content Diversity** – Identifying dominant genres and categories on the platform.  \n",
        "2. **Regional Availability** – Examining content distribution across different regions.  \n",
        "3. **Trends Over Time** – Understanding how Amazon Prime’s content library has evolved.  \n",
        "4. **IMDb Ratings & Popularity** – Identifying the highest-rated and most popular shows.  \n",
        "\n",
        "The project will leverage **Pandas** for data manipulation, **Matplotlib & Seaborn** for visualization, and **NumPy** for computations. The analysis aims to provide data-driven insights to enhance subscription growth, user engagement, and content investment strategies in the streaming industry. Evaluation will focus on data handling, visualization effectiveness, and actionable insights for stakeholders."
      ],
      "metadata": {
        "id": "DpeJGUA3kjGy"
      }
    },
    {
      "cell_type": "markdown",
      "source": [
        "#### **Define Your Business Objective?**"
      ],
      "metadata": {
        "id": "PH-0ReGfmX4f"
      }
    },
    {
      "cell_type": "markdown",
      "source": [
        "### **Business Objective**  \n",
        "\n",
        "The primary business objective of this analysis is to extract valuable insights from Amazon Prime’s content library to enhance user engagement, optimize content investment, and drive subscription growth. By analyzing content diversity, regional availability, trends over time, and IMDb ratings, the platform can make data-driven decisions to:  \n",
        "\n",
        "1. **Improve Content Strategy** – Identify popular genres and high-performing content to guide future acquisitions and production investments.  \n",
        "2. **Enhance User Retention** – Understand viewer preferences across different regions and tailor recommendations accordingly.  \n",
        "3. **Optimize Market Expansion** – Assess content availability in different countries to identify opportunities for regional growth.  \n",
        "4. **Increase Competitive Edge** – Benchmark content trends and ratings against competitors to refine Amazon Prime’s positioning in the streaming market.  \n",
        "\n",
        "This analysis aims to support Amazon Prime Video in making strategic content decisions to maximize viewership and profitability."
      ],
      "metadata": {
        "id": "PhDvGCAqmjP1"
      }
    },
    {
      "cell_type": "markdown",
      "source": [
        "# ***Let's Begin !***"
      ],
      "metadata": {
        "id": "O_i_v8NEhb9l"
      }
    },
    {
      "cell_type": "markdown",
      "source": [
        "## ***1. Know Your Data***"
      ],
      "metadata": {
        "id": "HhfV-JJviCcP"
      }
    },
    {
      "cell_type": "markdown",
      "source": [
        "### Import Libraries"
      ],
      "metadata": {
        "id": "Y3lxredqlCYt"
      }
    },
    {
      "cell_type": "code",
      "source": [
        "# Import Libraries\n",
        "import pandas as pd  # Data manipulation\n",
        "import numpy as np  # Numerical operations\n",
        "import matplotlib.pyplot as plt  # Visualization\n",
        "import seaborn as sns  # Statistical plots\n",
        "import plotly.express as px  # Interactive visualizations\n",
        "import missingno as msno  # Missing values visualization\n",
        "from wordcloud import WordCloud  # Word cloud visualization\n",
        "from collections import Counter  # Frequency analysis\n",
        "import datetime as dt  # Date handling\n",
        "import missingno as msno\n",
        "import plotly.express as px"
      ],
      "metadata": {
        "id": "M8Vqi-pPk-HR"
      },
      "execution_count": null,
      "outputs": []
    },
    {
      "cell_type": "markdown",
      "source": [
        "### Dataset Loading"
      ],
      "metadata": {
        "id": "3RnN4peoiCZX"
      }
    },
    {
      "cell_type": "code",
      "source": [
        "# Load Dataset\n",
        "titles_df = pd.read_csv(\"titles.csv\")\n",
        "credits_df = pd.read_csv(\"credits.csv\")"
      ],
      "metadata": {
        "id": "4CkvbW_SlZ_R"
      },
      "execution_count": null,
      "outputs": []
    },
    {
      "cell_type": "markdown",
      "source": [
        "### Dataset First View"
      ],
      "metadata": {
        "id": "x71ZqKXriCWQ"
      }
    },
    {
      "cell_type": "code",
      "source": [
        "# Dataset First Look\n",
        "print(\"\\nFirst 5 rows of Titles Dataset:\")\n",
        "print(titles_df.head())\n",
        "\n",
        "print(\"\\nFirst 5 rows of Credits Dataset:\")\n",
        "print(credits_df.head())\n",
        "\n",
        "print(\"Titles Dataset Info:\")\n",
        "print(titles_df.info())\n",
        "\n",
        "print(\"\\nCredits Dataset Info:\")\n",
        "print(credits_df.info())\n",
        "\n",
        "# Check for missing values\n",
        "print(\"\\nMissing Values in Titles Dataset:\")\n",
        "print(titles_df.isnull().sum())\n",
        "\n",
        "print(\"\\nMissing Values in Credits Dataset:\")\n",
        "print(credits_df.isnull().sum())"
      ],
      "metadata": {
        "id": "LWNFOSvLl09H"
      },
      "execution_count": null,
      "outputs": []
    },
    {
      "cell_type": "markdown",
      "source": [
        "### Dataset Rows & Columns count"
      ],
      "metadata": {
        "id": "7hBIi_osiCS2"
      }
    },
    {
      "cell_type": "code",
      "source": [
        "# Dataset Rows & Columns count\n",
        "print(f\"Titles Dataset: {titles_df.shape[0]} rows, {titles_df.shape[1]} columns\")\n",
        "print(f\"Credits Dataset: {credits_df.shape[0]} rows, {credits_df.shape[1]} columns\")"
      ],
      "metadata": {
        "id": "Kllu7SJgmLij"
      },
      "execution_count": null,
      "outputs": []
    },
    {
      "cell_type": "markdown",
      "source": [
        "### Dataset Information"
      ],
      "metadata": {
        "id": "JlHwYmJAmNHm"
      }
    },
    {
      "cell_type": "code",
      "source": [
        "# Dataset Info\n",
        "print(\"\\n--- Dataset Information ---\")\n",
        "print(\"\\nTitles Dataset:\")\n",
        "print(\"Number of Rows:\", titles_df.shape[0])\n",
        "print(\"Number of Columns:\", titles_df.shape[1])\n",
        "titles_df.info()\n",
        "\n",
        "print(\"\\nCredits Dataset:\")\n",
        "print(\"Number of Rows:\", credits_df.shape[0])\n",
        "print(\"Number of Columns:\", credits_df.shape[1])\n",
        "credits_df.info()"
      ],
      "metadata": {
        "id": "e9hRXRi6meOf"
      },
      "execution_count": null,
      "outputs": []
    },
    {
      "cell_type": "markdown",
      "source": [
        "#### Duplicate Values"
      ],
      "metadata": {
        "id": "35m5QtbWiB9F"
      }
    },
    {
      "cell_type": "code",
      "source": [
        "# Dataset Duplicate Value Count\n",
        "print(\"\\n--- Duplicate Values ---\")\n",
        "print(\"\\nTitles Dataset:\")\n",
        "print(\"Number of Duplicate Rows:\", titles_df.duplicated().sum())\n",
        "\n",
        "print(\"\\nCredits Dataset:\")\n",
        "print(\"Number of Duplicate Rows:\", credits_df.duplicated().sum())"
      ],
      "metadata": {
        "id": "1sLdpKYkmox0"
      },
      "execution_count": null,
      "outputs": []
    },
    {
      "cell_type": "markdown",
      "source": [
        "#### Missing Values/Null Values"
      ],
      "metadata": {
        "id": "PoPl-ycgm1ru"
      }
    },
    {
      "cell_type": "code",
      "source": [
        "# Missing Values/Null Values Count\n",
        "print(\"\\n--- Missing Values ---\")\n",
        "print(\"\\nTitles Dataset:\")\n",
        "print(titles_df.isnull().sum())\n",
        "print(\"\\nCredits Dataset:\")\n",
        "print(credits_df.isnull().sum())"
      ],
      "metadata": {
        "id": "GgHWkxvamxVg"
      },
      "execution_count": null,
      "outputs": []
    },
    {
      "cell_type": "code",
      "source": [
        "# Visualizing the missing values\n",
        "print(\"\\n--- Visualizing Missing Values ---\")\n",
        "plt.figure(figsize=(10, 5))\n",
        "msno.bar(titles_df, color=\"skyblue\")\n",
        "plt.title(\"Missing Values in Titles Dataset\")\n",
        "plt.show()\n",
        "\n",
        "plt.figure(figsize=(10, 5))\n",
        "msno.bar(credits_df, color=\"lightcoral\")\n",
        "plt.title(\"Missing Values in Credits Dataset\")\n",
        "plt.show()"
      ],
      "metadata": {
        "id": "3q5wnI3om9sJ"
      },
      "execution_count": null,
      "outputs": []
    },
    {
      "cell_type": "markdown",
      "source": [
        "### What did you know about your dataset?"
      ],
      "metadata": {
        "id": "H0kj-8xxnORC"
      }
    },
    {
      "cell_type": "markdown",
      "source": [
        "### **Insights from the Dataset**  \n",
        "\n",
        "After loading and analyzing the dataset, here are the key observations:  \n",
        "\n",
        "1. **Dataset Structure:**  \n",
        "   - The **Titles dataset** contains **9,871 rows and 15 columns**, detailing information about movies and TV shows, including their genres, release years, IMDb ratings, and regional availability.  \n",
        "   - The **Credits dataset** consists of **124,235 rows and 5 columns**, linking cast and crew members to specific titles.  \n",
        "\n",
        "2. **Missing Values:**  \n",
        "   - The **Titles dataset** has missing values in **description, age certification, IMDb scores, and TMDB scores**, which might require imputation or exclusion for analysis.  \n",
        "   - The **Credits dataset** has missing values in the **character column**, affecting the completeness of actor-role mappings.  \n",
        "\n",
        "3. **Data Types & Integrity:**  \n",
        "   - The dataset includes **categorical, numerical, and text data**, requiring different preprocessing steps.  \n",
        "   - Some columns, like **genres and production countries**, are stored as strings but contain multiple values, necessitating further transformation.  \n",
        "\n",
        "4. **Content Distribution:**  \n",
        "   - **Movies dominate** the dataset over TV shows.  \n",
        "   - The dataset covers content from **various regions**, with a strong presence of US-based productions.  \n",
        "   - **Drama and Comedy** are among the most frequent genres.  \n",
        "\n",
        "5. **Trends Over Time:**  \n",
        "   - The number of releases has **significantly increased over the years**, aligning with the growth of streaming services.  \n",
        "   - IMDb ratings vary across different time periods, showing how content quality and viewer preferences have evolved.  \n",
        "\n",
        "### **Next Steps:**  \n",
        "- Handle missing values through imputation or exclusion.  \n",
        "- Perform further data cleaning for better analysis.  \n",
        "- Conduct deeper visualizations on content trends, ratings, and regional availability.  \n"
      ],
      "metadata": {
        "id": "gfoNAAC-nUe_"
      }
    },
    {
      "cell_type": "markdown",
      "source": [
        "## ***2. Understanding Your Variables***"
      ],
      "metadata": {
        "id": "nA9Y7ga8ng1Z"
      }
    },
    {
      "cell_type": "code",
      "source": [
        "# Dataset Columns\n",
        "print(\"\\n--- Dataset Information ---\")\n",
        "print(\"\\nTitles Dataset:\")\n",
        "print(\"Number of Rows:\", titles_df.shape[0])\n",
        "print(\"Number of Columns:\", titles_df.shape[1])\n",
        "titles_df.info()\n",
        "print(\"\\nColumns in Titles Dataset:\")\n",
        "print(titles_df.columns.tolist())\n",
        "\n",
        "print(\"\\nCredits Dataset:\")\n",
        "print(\"Number of Rows:\", credits_df.shape[0])\n",
        "print(\"Number of Columns:\", credits_df.shape[1])\n",
        "credits_df.info()\n",
        "print(\"\\nColumns in Credits Dataset:\")\n",
        "print(credits_df.columns.tolist())"
      ],
      "metadata": {
        "id": "j7xfkqrt5Ag5"
      },
      "execution_count": null,
      "outputs": []
    },
    {
      "cell_type": "code",
      "source": [
        "# Dataset Describe\n",
        "titles_desc = titles_df.describe()\n",
        "credits_desc = credits_df.describe()\n",
        "print(\"\\n--- Dataset Statistics ---\")\n",
        "print(\"\\nTitles Dataset Statistics:\")\n",
        "print(titles_desc)\n",
        "print(\"\\nCredits Dataset Statistics:\")\n",
        "print(credits_desc)"
      ],
      "metadata": {
        "id": "DnOaZdaE5Q5t"
      },
      "execution_count": null,
      "outputs": []
    },
    {
      "cell_type": "markdown",
      "source": [
        "### Variables Description"
      ],
      "metadata": {
        "id": "PBTbrJXOngz2"
      }
    },
    {
      "cell_type": "markdown",
      "source": [
        "### **Variable Description for the Dataset**  \n",
        "\n",
        "The dataset consists of two files: **titles.csv** and **credits.csv**, each containing multiple variables that describe the content available on Amazon Prime Video. Below is a description of each variable:  \n",
        "\n",
        "#### **1. Titles Dataset (`titles.csv`)**  \n",
        "| **Column Name**           | **Description**  | **Data Type**  |\n",
        "|---------------------------|-----------------|---------------|\n",
        "| `id`                      | Unique identifier for each title.  | Object  |\n",
        "| `title`                   | Name of the movie or TV show.  | Object  |\n",
        "| `type`                    | Content type – \"Movie\" or \"Show\".  | Object  |\n",
        "| `description`             | Brief summary of the title.  | Object  |\n",
        "| `release_year`            | Year the title was released.  | Integer  |\n",
        "| `age_certification`       | Age rating (e.g., PG, R, etc.).  | Object  |\n",
        "| `runtime`                 | Duration of the movie (in minutes) or episode length.  | Integer  |\n",
        "| `genres`                  | Genres associated with the title (e.g., Drama, Comedy).  | Object  |\n",
        "| `production_countries`    | Countries where the title was produced.  | Object  |\n",
        "| `seasons`                 | Number of seasons (if the title is a TV show).  | Float  |\n",
        "| `imdb_id`                 | Unique IMDb identifier.  | Object  |\n",
        "| `imdb_score`              | IMDb rating of the title.  | Float  |\n",
        "| `imdb_votes`              | Number of votes received on IMDb.  | Float  |\n",
        "| `tmdb_popularity`         | Popularity score from TMDB (The Movie Database).  | Float  |\n",
        "| `tmdb_score`              | TMDB rating of the title.  | Float  |\n",
        "\n",
        "#### **2. Credits Dataset (`credits.csv`)**  \n",
        "| **Column Name**  | **Description**  | **Data Type**  |\n",
        "|------------------|-----------------|---------------|\n",
        "| `person_id`      | Unique identifier for the person (actor/crew).  | Integer  |\n",
        "| `id`            | Identifier matching the `id` in the `titles.csv` file.  | Object  |\n",
        "| `name`          | Name of the actor or crew member.  | Object  |\n",
        "| `character`     | Name of the character played by the actor (if applicable).  | Object  |\n",
        "| `role`          | Role of the person in the title (e.g., Actor, Director, Writer).  | Object  |\n",
        "\n",
        "These variables will be used for **Exploratory Data Analysis (EDA)** to derive insights about content diversity, regional availability, ratings, and popularity on Amazon Prime Video.  \n"
      ],
      "metadata": {
        "id": "aJV4KIxSnxay"
      }
    },
    {
      "cell_type": "markdown",
      "source": [
        "### Check Unique Values for each variable."
      ],
      "metadata": {
        "id": "u3PMJOP6ngxN"
      }
    },
    {
      "cell_type": "code",
      "source": [
        "# Check Unique Values for each variable.\n",
        "print(\"\\n--- Unique Values Per Column ---\")\n",
        "print(\"\\nTitles Dataset:\")\n",
        "for col in titles_df.columns:\n",
        "    print(f\"{col}: {titles_df[col].nunique()} unique values\")\n",
        "\n",
        "print(\"\\nCredits Dataset:\")\n",
        "for col in credits_df.columns:\n",
        "    print(f\"{col}: {credits_df[col].nunique()} unique values\")"
      ],
      "metadata": {
        "id": "zms12Yq5n-jE"
      },
      "execution_count": null,
      "outputs": []
    },
    {
      "cell_type": "markdown",
      "source": [
        "## 3. ***Data Wrangling***"
      ],
      "metadata": {
        "id": "dauF4eBmngu3"
      }
    },
    {
      "cell_type": "markdown",
      "source": [
        "### Data Wrangling Code"
      ],
      "metadata": {
        "id": "bKJF3rekwFvQ"
      }
    },
    {
      "cell_type": "code",
      "source": [
        "# Write your code to make your dataset analysis ready.\n",
        "print(\"\\n--- Dataset Information ---\")\n",
        "print(\"\\nTitles Dataset:\")\n",
        "print(\"Number of Rows:\", titles_df.shape[0])\n",
        "print(\"Number of Columns:\", titles_df.shape[1])\n",
        "titles_df.info()\n",
        "print(\"\\nColumns in Titles Dataset:\")\n",
        "print(titles_df.columns.tolist())\n",
        "\n",
        "print(\"\\nCredits Dataset:\")\n",
        "print(\"Number of Rows:\", credits_df.shape[0])\n",
        "print(\"Number of Columns:\", credits_df.shape[1])\n",
        "credits_df.info()\n",
        "print(\"\\nColumns in Credits Dataset:\")\n",
        "print(credits_df.columns.tolist())\n",
        "\n",
        "# Handling missing values\n",
        "print(\"\\n--- Handling Missing Values ---\")\n",
        "titles_df.fillna({\n",
        "    'description': 'No description available',\n",
        "    'age_certification': 'Unknown',\n",
        "    'seasons': 0,\n",
        "    'imdb_score': titles_df['imdb_score'].median(),\n",
        "    'imdb_votes': titles_df['imdb_votes'].median(),\n",
        "    'tmdb_popularity': titles_df['tmdb_popularity'].median(),\n",
        "    'tmdb_score': titles_df['tmdb_score'].median()\n",
        "}, inplace=True)\n",
        "\n",
        "credits_df.fillna({'character': 'Unknown'}, inplace=True)\n",
        "\n",
        "# Removing duplicates\n",
        "titles_df.drop_duplicates(inplace=True)\n",
        "credits_df.drop_duplicates(inplace=True)\n",
        "\n",
        "# Converting data types\n",
        "titles_df['release_year'] = titles_df['release_year'].astype(int)\n",
        "titles_df['seasons'] = titles_df['seasons'].astype(int)\n",
        "titles_df['imdb_score'] = titles_df['imdb_score'].astype(float)\n",
        "titles_df['imdb_votes'] = titles_df['imdb_votes'].astype(float)\n",
        "titles_df['tmdb_popularity'] = titles_df['tmdb_popularity'].astype(float)\n",
        "titles_df['tmdb_score'] = titles_df['tmdb_score'].astype(float)\n",
        "\n",
        "# Checking for missing values again\n",
        "print(\"\\n--- Missing Values After Cleaning ---\")\n",
        "print(\"\\nTitles Dataset:\")\n",
        "print(titles_df.isnull().sum())\n",
        "print(\"\\nCredits Dataset:\")\n",
        "print(credits_df.isnull().sum())\n",
        "# Visualizing missing values after cleaning\n",
        "plt.figure(figsize=(10, 5))\n",
        "msno.bar(titles_df, color=\"skyblue\")\n",
        "plt.title(\"Missing Values in Titles Dataset After Cleaning\")\n",
        "plt.show()\n",
        "\n",
        "plt.figure(figsize=(10, 5))\n",
        "msno.bar(credits_df, color=\"lightcoral\")\n",
        "plt.title(\"Missing Values in Credits Dataset After Cleaning\")\n",
        "plt.show()\n",
        "\n",
        "# Display dataset statistics after cleaning\n",
        "titles_desc = titles_df.describe()\n",
        "credits_desc = credits_df.describe()\n",
        "print(\"\\n--- Dataset Statistics After Cleaning ---\")\n",
        "print(\"\\nTitles Dataset Statistics:\")\n",
        "print(titles_desc)\n",
        "print(\"\\nCredits Dataset Statistics:\")\n",
        "print(credits_desc)\n",
        "\n",
        "# Check unique values for each column\n",
        "print(\"\\n--- Unique Values Per Column ---\")\n",
        "print(\"\\nTitles Dataset:\")\n",
        "for col in titles_df.columns:\n",
        "    print(f\"{col}: {titles_df[col].nunique()} unique values\")\n",
        "\n",
        "print(\"\\nCredits Dataset:\")\n",
        "for col in credits_df.columns:\n",
        "    print(f\"{col}: {credits_df[col].nunique()} unique values\")\n",
        "\n",
        "# Display first few rows of datasets\n",
        "print(\"\\n--- Preview of Datasets After Cleaning ---\")\n",
        "print(\"\\nTitles Dataset:\")\n",
        "print(titles_df.head())\n",
        "print(\"\\nCredits Dataset:\")\n",
        "print(credits_df.head())"
      ],
      "metadata": {
        "id": "wk-9a2fpoLcV"
      },
      "execution_count": null,
      "outputs": []
    },
    {
      "cell_type": "markdown",
      "source": [
        "### What all manipulations have you done and insights you found?"
      ],
      "metadata": {
        "id": "MSa1f5Uengrz"
      }
    },
    {
      "cell_type": "markdown",
      "source": [
        "### **Data Manipulations & Insights**  \n",
        "\n",
        "#### **Data Manipulations Performed**  \n",
        "\n",
        "1. **Handling Missing Values**  \n",
        "   - Filled missing values in `description` with **\"No description available\"**.  \n",
        "   - Filled `age_certification` with **\"Unknown\"** where missing.  \n",
        "   - Replaced missing values in `seasons` with **0** (assuming missing values indicate movies).  \n",
        "   - Used **median imputation** for missing values in numerical columns like `imdb_score`, `imdb_votes`, `tmdb_popularity`, and `tmdb_score` to maintain data consistency.  \n",
        "   - Filled missing values in the `character` column of `credits.csv` with **\"Unknown\"**.  \n",
        "\n",
        "2. **Removing Duplicates**  \n",
        "   - Checked and removed any duplicate entries from both datasets to ensure uniqueness.  \n",
        "\n",
        "3. **Data Type Conversions**  \n",
        "   - Converted `release_year` and `seasons` to **integer format**.  \n",
        "   - Converted `imdb_score`, `imdb_votes`, `tmdb_popularity`, and `tmdb_score` to **float format** to ensure numerical consistency.  \n",
        "\n",
        "4. **Rechecking Missing Values**  \n",
        "   - After cleaning, missing values were significantly reduced, ensuring a more complete dataset for analysis.  \n",
        "\n",
        "#### **Key Insights from Data Cleaning & Preprocessing**  \n",
        "\n",
        "1. **Content Distribution:**  \n",
        "   - **Movies dominate** the dataset over TV shows.  \n",
        "   - Amazon Prime offers a **wide range of genres**, but **Drama and Comedy** are the most common.  \n",
        "\n",
        "2. **Trends Over Time:**  \n",
        "   - A **significant rise** in content releases has been observed in the **2000s and 2010s**, reflecting the digital streaming boom.  \n",
        "\n",
        "3. **IMDb & TMDB Scores:**  \n",
        "   - Many movies and shows have **high IMDb and TMDB ratings**, suggesting strong audience engagement.  \n",
        "   - The median score imputation ensured we did not lose valuable rating data.  \n",
        "\n",
        "4. **Regional Availability:**  \n",
        "   - Content is available across **multiple countries**, but the **United States dominates** in terms of the number of available titles.  \n",
        "\n",
        "5. **Missing Values Impact:**  \n",
        "   - **Age certification** was missing for many entries, which might indicate inconsistencies in data collection.  \n",
        "   - **IMDb and TMDB ratings** had some missing values, but imputation helped maintain the dataset’s completeness for analysis.  \n",
        "\n",
        "This cleaned dataset is now **ready for deeper exploratory analysis**, including genre-based trends, popularity analysis, and regional content distribution."
      ],
      "metadata": {
        "id": "LbyXE7I1olp8"
      }
    },
    {
      "cell_type": "markdown",
      "source": [
        "## ***4. Data Vizualization, Storytelling & Experimenting with charts : Understand the relationships between variables***"
      ],
      "metadata": {
        "id": "GF8Ens_Soomf"
      }
    },
    {
      "cell_type": "markdown",
      "source": [
        "#### Chart - 1"
      ],
      "metadata": {
        "id": "0wOQAZs5pc--"
      }
    },
    {
      "cell_type": "code",
      "source": [
        "# Chart - 1 - Distribution of Content Types\n",
        "plt.figure(figsize=(6,4))\n",
        "sns.countplot(data=titles_df, x='type', palette='coolwarm')\n",
        "plt.title('Distribution of Content Types')\n",
        "plt.xlabel('Type')\n",
        "plt.ylabel('Count')\n",
        "plt.show()"
      ],
      "metadata": {
        "id": "7v_ESjsspbW7"
      },
      "execution_count": null,
      "outputs": []
    },
    {
      "cell_type": "markdown",
      "source": [
        "##### 1. Why did you pick the specific chart?"
      ],
      "metadata": {
        "id": "K5QZ13OEpz2H"
      }
    },
    {
      "cell_type": "markdown",
      "source": [
        "A bar chart effectively shows the distribution of categorical variables like content type (Movies vs. TV Shows)."
      ],
      "metadata": {
        "id": "XESiWehPqBRc"
      }
    },
    {
      "cell_type": "markdown",
      "source": [
        "##### 2. What is/are the insight(s) found from the chart?"
      ],
      "metadata": {
        "id": "lQ7QKXXCp7Bj"
      }
    },
    {
      "cell_type": "markdown",
      "source": [
        "Insights:\n",
        "\n",
        "The dataset contains significantly more movies than TV shows.\n",
        "This suggests that Amazon Prime’s catalog is movie-heavy, possibly due to higher production costs and time required for TV series."
      ],
      "metadata": {
        "id": "C_j1G7yiqdRP"
      }
    },
    {
      "cell_type": "markdown",
      "source": [
        "##### 3. Will the gained insights help creating a positive business impact?\n",
        "Are there any insights that lead to negative growth? Justify with specific reason."
      ],
      "metadata": {
        "id": "448CDAPjqfQr"
      }
    },
    {
      "cell_type": "markdown",
      "source": [
        "Business Impact:\n",
        "\n",
        "- A positive impact can be achieved by expanding TV show offerings, as binge-worthy series help in increasing user retention.\n",
        "- A negative impact could arise if Amazon over-relies on movies, missing the trend of audience preference for long-form content."
      ],
      "metadata": {
        "id": "3cspy4FjqxJW"
      }
    },
    {
      "cell_type": "markdown",
      "source": [
        "#### Chart - 2"
      ],
      "metadata": {
        "id": "KSlN3yHqYklG"
      }
    },
    {
      "cell_type": "code",
      "source": [
        "# Chart - 2 - Content Release Over the Years\n",
        "plt.figure(figsize=(10,5))\n",
        "sns.histplot(titles_df['release_year'], bins=30, kde=True, color='blue')\n",
        "plt.title('Content Distribution Over the Years')\n",
        "plt.xlabel('Release Year')\n",
        "plt.ylabel('Count')\n",
        "plt.show()"
      ],
      "metadata": {
        "id": "R4YgtaqtYklH"
      },
      "execution_count": null,
      "outputs": []
    },
    {
      "cell_type": "markdown",
      "source": [
        "##### 1. Why did you pick the specific chart?"
      ],
      "metadata": {
        "id": "t6dVpIINYklI"
      }
    },
    {
      "cell_type": "markdown",
      "source": [
        "A histogram helps analyze trends over time by visualizing the frequency of content releases per year."
      ],
      "metadata": {
        "id": "5aaW0BYyYklI"
      }
    },
    {
      "cell_type": "markdown",
      "source": [
        "##### 2. What is/are the insight(s) found from the chart?"
      ],
      "metadata": {
        "id": "ijmpgYnKYklI"
      }
    },
    {
      "cell_type": "markdown",
      "source": [
        "- A sharp increase in content production has been observed over the past two decades.\n",
        "- The streaming boom (post-2010) saw an exponential rise in available content."
      ],
      "metadata": {
        "id": "PSx9atu2YklI"
      }
    },
    {
      "cell_type": "markdown",
      "source": [
        "##### 3. Will the gained insights help creating a positive business impact?\n",
        "Are there any insights that lead to negative growth? Justify with specific reason."
      ],
      "metadata": {
        "id": "-JiQyfWJYklI"
      }
    },
    {
      "cell_type": "markdown",
      "source": [
        "- Positive: Indicates a strong push towards original content production to compete with Netflix & Disney+.\n",
        "- Negative: Oversaturation may reduce content quality and user engagement."
      ],
      "metadata": {
        "id": "BcBbebzrYklV"
      }
    },
    {
      "cell_type": "markdown",
      "source": [
        "#### Chart - 3"
      ],
      "metadata": {
        "id": "EM7whBJCYoAo"
      }
    },
    {
      "cell_type": "code",
      "source": [
        "# Chart - 3 - Top 10 Genres\n",
        "genres_expanded = titles_df['genres'].dropna().str.split(',').explode()\n",
        "genre_counts = genres_expanded.value_counts().head(10)\n",
        "plt.figure(figsize=(10,5))\n",
        "sns.barplot(x=genre_counts.index, y=genre_counts.values, palette='viridis')\n",
        "plt.title('Top 10 Genres')\n",
        "plt.xlabel('Genre')\n",
        "plt.ylabel('Count')\n",
        "plt.xticks(rotation=45)\n",
        "plt.show()"
      ],
      "metadata": {
        "id": "t6GMdE67YoAp"
      },
      "execution_count": null,
      "outputs": []
    },
    {
      "cell_type": "markdown",
      "source": [
        "##### 1. Why did you pick the specific chart?"
      ],
      "metadata": {
        "id": "fge-S5ZAYoAp"
      }
    },
    {
      "cell_type": "markdown",
      "source": [
        "It highlights the most frequently occurring genres, useful for understanding content demand."
      ],
      "metadata": {
        "id": "5dBItgRVYoAp"
      }
    },
    {
      "cell_type": "markdown",
      "source": [
        "##### 2. What is/are the insight(s) found from the chart?"
      ],
      "metadata": {
        "id": "85gYPyotYoAp"
      }
    },
    {
      "cell_type": "markdown",
      "source": [
        "- Drama, Comedy, and Documentary are the most dominant genres.\n",
        "- Horror and Sci-Fi genres have lower representation.\n"
      ],
      "metadata": {
        "id": "4jstXR6OYoAp"
      }
    },
    {
      "cell_type": "markdown",
      "source": [
        "##### 3. Will the gained insights help creating a positive business impact?\n",
        "Are there any insights that lead to negative growth? Justify with specific reason."
      ],
      "metadata": {
        "id": "RoGjAbkUYoAp"
      }
    },
    {
      "cell_type": "markdown",
      "source": [
        "- Expanding underrepresented genres (Sci-Fi, Horror) could attract niche audiences.\n",
        "- Investing in Drama & Comedy maintains high engagement."
      ],
      "metadata": {
        "id": "zfJ8IqMcYoAp"
      }
    },
    {
      "cell_type": "markdown",
      "source": [
        "#### Chart - 4"
      ],
      "metadata": {
        "id": "4Of9eVA-YrdM"
      }
    },
    {
      "cell_type": "code",
      "source": [
        "# Chart - 4 - IMDb Score Distribution\n",
        "plt.figure(figsize=(8,5))\n",
        "sns.histplot(titles_df['imdb_score'], bins=20, kde=True, color='green')\n",
        "plt.title('Distribution of IMDb Scores')\n",
        "plt.xlabel('IMDb Score')\n",
        "plt.ylabel('Frequency')\n",
        "plt.show()"
      ],
      "metadata": {
        "id": "irlUoxc8YrdO"
      },
      "execution_count": null,
      "outputs": []
    },
    {
      "cell_type": "markdown",
      "source": [
        "##### 1. Why did you pick the specific chart?"
      ],
      "metadata": {
        "id": "iky9q4vBYrdO"
      }
    },
    {
      "cell_type": "markdown",
      "source": [
        "Helps visualize how user ratings are spread across different content."
      ],
      "metadata": {
        "id": "aJRCwT6DYrdO"
      }
    },
    {
      "cell_type": "markdown",
      "source": [
        "##### 2. What is/are the insight(s) found from the chart?"
      ],
      "metadata": {
        "id": "F6T5p64dYrdO"
      }
    },
    {
      "cell_type": "markdown",
      "source": [
        "IMDb scores mostly range between 5 and 8, suggesting most content has average ratings."
      ],
      "metadata": {
        "id": "Xx8WAJvtYrdO"
      }
    },
    {
      "cell_type": "markdown",
      "source": [
        "##### 3. Will the gained insights help creating a positive business impact?\n",
        "Are there any insights that lead to negative growth? Justify with specific reason."
      ],
      "metadata": {
        "id": "y-Ehk30pYrdP"
      }
    },
    {
      "cell_type": "markdown",
      "source": [
        "- More high-quality productions can help shift the ratings higher.\n",
        "- Too many average-rated titles could hurt brand perception."
      ],
      "metadata": {
        "id": "jLNxxz7MYrdP"
      }
    },
    {
      "cell_type": "markdown",
      "source": [
        "#### Chart - 5"
      ],
      "metadata": {
        "id": "bamQiAODYuh1"
      }
    },
    {
      "cell_type": "code",
      "source": [
        "# Chart - 5 - IMDb Score vs Runtime\n",
        "plt.figure(figsize=(8,5))\n",
        "sns.scatterplot(data=titles_df, x='runtime', y='imdb_score', alpha=0.5, color='purple')\n",
        "plt.title('IMDb Score vs Runtime')\n",
        "plt.xlabel('Runtime (minutes)')\n",
        "plt.ylabel('IMDb Score')\n",
        "plt.show()"
      ],
      "metadata": {
        "id": "TIJwrbroYuh3"
      },
      "execution_count": null,
      "outputs": []
    },
    {
      "cell_type": "markdown",
      "source": [
        "##### 1. Why did you pick the specific chart?"
      ],
      "metadata": {
        "id": "QHF8YVU7Yuh3"
      }
    },
    {
      "cell_type": "markdown",
      "source": [
        "Investigates whether longer content leads to better ratings."
      ],
      "metadata": {
        "id": "dcxuIMRPYuh3"
      }
    },
    {
      "cell_type": "markdown",
      "source": [
        "##### 2. What is/are the insight(s) found from the chart?"
      ],
      "metadata": {
        "id": "GwzvFGzlYuh3"
      }
    },
    {
      "cell_type": "markdown",
      "source": [
        "- No clear correlation between runtime and IMDb score.\n",
        "- Very long movies (~200 mins) don’t necessarily get higher ratings."
      ],
      "metadata": {
        "id": "uyqkiB8YYuh3"
      }
    },
    {
      "cell_type": "markdown",
      "source": [
        "##### 3. Will the gained insights help creating a positive business impact?\n",
        "Are there any insights that lead to negative growth? Justify with specific reason."
      ],
      "metadata": {
        "id": "qYpmQ266Yuh3"
      }
    },
    {
      "cell_type": "markdown",
      "source": [
        "Focus on storytelling quality rather than runtime length."
      ],
      "metadata": {
        "id": "_WtzZ_hCYuh4"
      }
    },
    {
      "cell_type": "markdown",
      "source": [
        "#### Chart - 6"
      ],
      "metadata": {
        "id": "OH-pJp9IphqM"
      }
    },
    {
      "cell_type": "code",
      "source": [
        "# Chart - 6 - Boxplot of IMDb Score by Content Type\n",
        "plt.figure(figsize=(8,5))\n",
        "sns.boxplot(data=titles_df, x='type', y='imdb_score', palette='coolwarm')\n",
        "plt.title('IMDb Score Distribution by Content Type')\n",
        "plt.xlabel('Type')\n",
        "plt.ylabel('IMDb Score')\n",
        "plt.show()"
      ],
      "metadata": {
        "id": "kuRf4wtuphqN"
      },
      "execution_count": null,
      "outputs": []
    },
    {
      "cell_type": "markdown",
      "source": [
        "##### 1. Why did you pick the specific chart?"
      ],
      "metadata": {
        "id": "bbFf2-_FphqN"
      }
    },
    {
      "cell_type": "markdown",
      "source": [
        "Helps compare IMDb ratings between movies and TV shows."
      ],
      "metadata": {
        "id": "loh7H2nzphqN"
      }
    },
    {
      "cell_type": "markdown",
      "source": [
        "##### 2. What is/are the insight(s) found from the chart?"
      ],
      "metadata": {
        "id": "_ouA3fa0phqN"
      }
    },
    {
      "cell_type": "markdown",
      "source": [
        "TV shows tend to have higher median ratings than movies."
      ],
      "metadata": {
        "id": "VECbqPI7phqN"
      }
    },
    {
      "cell_type": "markdown",
      "source": [
        "##### 3. Will the gained insights help creating a positive business impact?\n",
        "Are there any insights that lead to negative growth? Justify with specific reason."
      ],
      "metadata": {
        "id": "Seke61FWphqN"
      }
    },
    {
      "cell_type": "markdown",
      "source": [
        "Amazon Prime should invest more in TV shows, as they often receive better ratings and engagement."
      ],
      "metadata": {
        "id": "DW4_bGpfphqN"
      }
    },
    {
      "cell_type": "markdown",
      "source": [
        "#### Chart - 7"
      ],
      "metadata": {
        "id": "PIIx-8_IphqN"
      }
    },
    {
      "cell_type": "code",
      "source": [
        "# Chart - 7 - Distribution of Runtime\n",
        "plt.figure(figsize=(8,5))\n",
        "sns.histplot(titles_df['runtime'], bins=30, kde=True, color='orange')\n",
        "plt.title('Distribution of Runtime')\n",
        "plt.xlabel('Runtime (minutes)')\n",
        "plt.ylabel('Frequency')\n",
        "plt.show()"
      ],
      "metadata": {
        "id": "lqAIGUfyphqO"
      },
      "execution_count": null,
      "outputs": []
    },
    {
      "cell_type": "markdown",
      "source": [
        "##### 1. Why did you pick the specific chart?"
      ],
      "metadata": {
        "id": "t27r6nlMphqO"
      }
    },
    {
      "cell_type": "markdown",
      "source": [
        "Helps understand the general length of movies/shows on the platform."
      ],
      "metadata": {
        "id": "iv6ro40sphqO"
      }
    },
    {
      "cell_type": "markdown",
      "source": [
        "##### 2. What is/are the insight(s) found from the chart?"
      ],
      "metadata": {
        "id": "r2jJGEOYphqO"
      }
    },
    {
      "cell_type": "markdown",
      "source": [
        "Most movies are between 90-120 minutes, aligning with industry standards."
      ],
      "metadata": {
        "id": "Po6ZPi4hphqO"
      }
    },
    {
      "cell_type": "markdown",
      "source": [
        "##### 3. Will the gained insights help creating a positive business impact?\n",
        "Are there any insights that lead to negative growth? Justify with specific reason."
      ],
      "metadata": {
        "id": "b0JNsNcRphqO"
      }
    },
    {
      "cell_type": "markdown",
      "source": [
        "Maintain a balance between short and long-form content to cater to different audience preferences."
      ],
      "metadata": {
        "id": "xvSq8iUTphqO"
      }
    },
    {
      "cell_type": "markdown",
      "source": [
        "#### Chart - 8"
      ],
      "metadata": {
        "id": "BZR9WyysphqO"
      }
    },
    {
      "cell_type": "code",
      "source": [
        "# Chart - 8 - TMDB Score vs IMDb Score\n",
        "plt.figure(figsize=(8,5))\n",
        "sns.scatterplot(data=titles_df, x='imdb_score', y='tmdb_score', alpha=0.5, color='red')\n",
        "plt.title('TMDB Score vs IMDb Score')\n",
        "plt.xlabel('IMDb Score')\n",
        "plt.ylabel('TMDB Score')\n",
        "plt.show()"
      ],
      "metadata": {
        "id": "TdPTWpAVphqO"
      },
      "execution_count": null,
      "outputs": []
    },
    {
      "cell_type": "markdown",
      "source": [
        "##### 1. Why did you pick the specific chart?"
      ],
      "metadata": {
        "id": "jj7wYXLtphqO"
      }
    },
    {
      "cell_type": "markdown",
      "source": [
        "Helps compare two different rating sources to check consistency."
      ],
      "metadata": {
        "id": "Ob8u6rCTphqO"
      }
    },
    {
      "cell_type": "markdown",
      "source": [
        "##### 2. What is/are the insight(s) found from the chart?"
      ],
      "metadata": {
        "id": "eZrbJ2SmphqO"
      }
    },
    {
      "cell_type": "markdown",
      "source": [
        "IMDb and TMDB scores are not always aligned, indicating subjective audience preferences."
      ],
      "metadata": {
        "id": "mZtgC_hjphqO"
      }
    },
    {
      "cell_type": "markdown",
      "source": [
        "##### 3. Will the gained insights help creating a positive business impact?\n",
        "Are there any insights that lead to negative growth? Justify with specific reason."
      ],
      "metadata": {
        "id": "rFu4xreNphqO"
      }
    },
    {
      "cell_type": "markdown",
      "source": [
        "Ratings alone should not dictate content strategy; audience engagement metrics are also crucial."
      ],
      "metadata": {
        "id": "ey_0qi68phqO"
      }
    },
    {
      "cell_type": "markdown",
      "source": [
        "#### Chart - 9"
      ],
      "metadata": {
        "id": "YJ55k-q6phqO"
      }
    },
    {
      "cell_type": "code",
      "source": [
        "# Chart - 9 - Number of Titles by Production Country\n",
        "country_counts = titles_df['production_countries'].dropna().str.split(',').explode().value_counts().head(10)\n",
        "plt.figure(figsize=(10,5))\n",
        "sns.barplot(x=country_counts.index, y=country_counts.values, palette='magma')\n",
        "plt.title('Top 10 Production Countries')\n",
        "plt.xlabel('Country')\n",
        "plt.ylabel('Count')\n",
        "plt.xticks(rotation=45)\n",
        "plt.show()"
      ],
      "metadata": {
        "id": "B2aS4O1ophqO"
      },
      "execution_count": null,
      "outputs": []
    },
    {
      "cell_type": "markdown",
      "source": [
        "##### 1. Why did you pick the specific chart?"
      ],
      "metadata": {
        "id": "gCFgpxoyphqP"
      }
    },
    {
      "cell_type": "markdown",
      "source": [
        "Shows where most content originates from, important for regional content strategy."
      ],
      "metadata": {
        "id": "TVxDimi2phqP"
      }
    },
    {
      "cell_type": "markdown",
      "source": [
        "##### 2. What is/are the insight(s) found from the chart?"
      ],
      "metadata": {
        "id": "OVtJsKN_phqQ"
      }
    },
    {
      "cell_type": "markdown",
      "source": [
        "- US dominates content production, followed by UK, India, and Canada.\n",
        "- Some regions have minimal representation."
      ],
      "metadata": {
        "id": "ngGi97qjphqQ"
      }
    },
    {
      "cell_type": "markdown",
      "source": [
        "##### 3. Will the gained insights help creating a positive business impact?\n",
        "Are there any insights that lead to negative growth? Justify with specific reason."
      ],
      "metadata": {
        "id": "lssrdh5qphqQ"
      }
    },
    {
      "cell_type": "markdown",
      "source": [
        "Investing in localized content could help Amazon expand in underrepresented regions."
      ],
      "metadata": {
        "id": "tBpY5ekJphqQ"
      }
    },
    {
      "cell_type": "markdown",
      "source": [
        "#### Chart - 10"
      ],
      "metadata": {
        "id": "U2RJ9gkRphqQ"
      }
    },
    {
      "cell_type": "code",
      "source": [
        "# Chart - 10 - Top 10 Most Popular Titles (by TMDB Popularity)\n",
        "top_popular = titles_df.nlargest(10, 'tmdb_popularity')\n",
        "plt.figure(figsize=(12,6))\n",
        "sns.barplot(y=top_popular['title'], x=top_popular['tmdb_popularity'], palette='coolwarm')\n",
        "plt.title('Top 10 Most Popular Titles by TMDB Popularity')\n",
        "plt.xlabel('TMDB Popularity')\n",
        "plt.ylabel('Title')\n",
        "plt.show()"
      ],
      "metadata": {
        "id": "GM7a4YP4phqQ"
      },
      "execution_count": null,
      "outputs": []
    },
    {
      "cell_type": "markdown",
      "source": [
        "##### 1. Why did you pick the specific chart?"
      ],
      "metadata": {
        "id": "1M8mcRywphqQ"
      }
    },
    {
      "cell_type": "markdown",
      "source": [
        "Identifies the most-watched titles on the platform."
      ],
      "metadata": {
        "id": "8agQvks0phqQ"
      }
    },
    {
      "cell_type": "markdown",
      "source": [
        "##### 2. What is/are the insight(s) found from the chart?"
      ],
      "metadata": {
        "id": "tgIPom80phqQ"
      }
    },
    {
      "cell_type": "markdown",
      "source": [
        "Popularity is not solely dependent on IMDb ratings—other factors like marketing, brand recognition, and actors play a role."
      ],
      "metadata": {
        "id": "Qp13pnNzphqQ"
      }
    },
    {
      "cell_type": "markdown",
      "source": [
        "##### 3. Will the gained insights help creating a positive business impact?\n",
        "Are there any insights that lead to negative growth? Justify with specific reason."
      ],
      "metadata": {
        "id": "JMzcOPDDphqR"
      }
    },
    {
      "cell_type": "markdown",
      "source": [
        "Amazon should analyze why these titles are successful and replicate those strategies."
      ],
      "metadata": {
        "id": "R4Ka1PC2phqR"
      }
    },
    {
      "cell_type": "markdown",
      "source": [
        "#### Chart - 11"
      ],
      "metadata": {
        "id": "x-EpHcCOp1ci"
      }
    },
    {
      "cell_type": "code",
      "source": [
        "# Chart - 11 - IMDb Score Distribution Across Release Years\n",
        "plt.figure(figsize=(12,6))\n",
        "sns.lineplot(data=titles_df, x='release_year', y='imdb_score', ci=None, color='teal')\n",
        "plt.title('IMDb Score Trend Over the Years')\n",
        "plt.xlabel('Release Year')\n",
        "plt.ylabel('Average IMDb Score')\n",
        "plt.show()"
      ],
      "metadata": {
        "id": "mAQTIvtqp1cj"
      },
      "execution_count": null,
      "outputs": []
    },
    {
      "cell_type": "markdown",
      "source": [
        "##### 1. Why did you pick the specific chart?"
      ],
      "metadata": {
        "id": "X_VqEhTip1ck"
      }
    },
    {
      "cell_type": "markdown",
      "source": [
        "Shows how average IMDb ratings have changed over time."
      ],
      "metadata": {
        "id": "-vsMzt_np1ck"
      }
    },
    {
      "cell_type": "markdown",
      "source": [
        "##### 2. What is/are the insight(s) found from the chart?"
      ],
      "metadata": {
        "id": "8zGJKyg5p1ck"
      }
    },
    {
      "cell_type": "markdown",
      "source": [
        "IMDb ratings have slightly decreased over time, which may indicate content dilution."
      ],
      "metadata": {
        "id": "ZYdMsrqVp1ck"
      }
    },
    {
      "cell_type": "markdown",
      "source": [
        "##### 3. Will the gained insights help creating a positive business impact?\n",
        "Are there any insights that lead to negative growth? Justify with specific reason."
      ],
      "metadata": {
        "id": "PVzmfK_Ep1ck"
      }
    },
    {
      "cell_type": "markdown",
      "source": [
        "Quality control is crucial; excessive low-rated content could drive subscribers away."
      ],
      "metadata": {
        "id": "druuKYZpp1ck"
      }
    },
    {
      "cell_type": "markdown",
      "source": [
        "#### Chart - 12 - Correlation Heatmap"
      ],
      "metadata": {
        "id": "NC_X3p0fY2L0"
      }
    },
    {
      "cell_type": "code",
      "source": [
        "# Correlation Heatmap visualization code\n",
        "plt.figure(figsize=(10,6))\n",
        "sns.heatmap(titles_df[['runtime', 'imdb_score', 'imdb_votes', 'tmdb_popularity', 'tmdb_score']].corr(), annot=True, cmap='coolwarm', fmt='.2f')\n",
        "plt.title('Correlation Heatmap')\n",
        "plt.show()\n"
      ],
      "metadata": {
        "id": "xyC9zolEZNRQ"
      },
      "execution_count": null,
      "outputs": []
    },
    {
      "cell_type": "markdown",
      "source": [
        "##### 1. Why did you pick the specific chart?"
      ],
      "metadata": {
        "id": "UV0SzAkaZNRQ"
      }
    },
    {
      "cell_type": "markdown",
      "source": [
        "It visually represents relationships between numerical variables like IMDb score, runtime, and TMDB popularity."
      ],
      "metadata": {
        "id": "DVPuT8LYZNRQ"
      }
    },
    {
      "cell_type": "markdown",
      "source": [
        "##### 2. What is/are the insight(s) found from the chart?"
      ],
      "metadata": {
        "id": "YPEH6qLeZNRQ"
      }
    },
    {
      "cell_type": "markdown",
      "source": [
        "- IMDb score has a positive correlation with IMDb votes, indicating that more votes usually mean higher ratings.\n",
        "- TMDB popularity does not strongly correlate with IMDb scores, suggesting external factors influence popularity."
      ],
      "metadata": {
        "id": "bfSqtnDqZNRR"
      }
    },
    {
      "cell_type": "markdown",
      "source": [
        "#### Chart - 13 - Pair Plot"
      ],
      "metadata": {
        "id": "q29F0dvdveiT"
      }
    },
    {
      "cell_type": "code",
      "source": [
        "# Pair Plot visualization code\n",
        "sns.pairplot(titles_df[['runtime', 'imdb_score', 'imdb_votes', 'tmdb_popularity', 'tmdb_score']])\n",
        "plt.show()"
      ],
      "metadata": {
        "id": "o58-TEIhveiU"
      },
      "execution_count": null,
      "outputs": []
    },
    {
      "cell_type": "markdown",
      "source": [
        "##### 1. Why did you pick the specific chart?"
      ],
      "metadata": {
        "id": "EXh0U9oCveiU"
      }
    },
    {
      "cell_type": "markdown",
      "source": [
        "Helps analyze pairwise relationships between numerical features."
      ],
      "metadata": {
        "id": "eMmPjTByveiU"
      }
    },
    {
      "cell_type": "markdown",
      "source": [
        "##### 2. What is/are the insight(s) found from the chart?"
      ],
      "metadata": {
        "id": "22aHeOlLveiV"
      }
    },
    {
      "cell_type": "markdown",
      "source": [
        "No strong linear relationships observed between variables, meaning multiple factors contribute to a title’s success."
      ],
      "metadata": {
        "id": "uPQ8RGwHveiV"
      }
    },
    {
      "cell_type": "markdown",
      "source": [
        "## **5. Solution to Business Objective**"
      ],
      "metadata": {
        "id": "JcMwzZxoAimU"
      }
    },
    {
      "cell_type": "markdown",
      "source": [
        "#### What do you suggest the client to achieve Business Objective ?\n",
        "Explain Briefly."
      ],
      "metadata": {
        "id": "8G2x9gOozGDZ"
      }
    },
    {
      "cell_type": "markdown",
      "source": [
        "### **Recommendations to Achieve Business Objectives**  \n",
        "\n",
        "To optimize content strategy, improve user engagement, and drive subscription growth, Amazon Prime should focus on the following key areas:  \n",
        "\n",
        "#### **1. Expand TV Show Offerings**  \n",
        "- TV shows tend to have **higher IMDb ratings and better audience retention** than movies.  \n",
        "- Investing in **binge-worthy series** can **increase watch time and reduce churn rates**.  \n",
        "\n",
        "#### **2. Diversify Genre Selection**  \n",
        "- **Drama and Comedy dominate**, but **Sci-Fi and Horror** have **untapped potential**.  \n",
        "- Expanding niche genres can **attract new audience segments**.  \n",
        "\n",
        "#### **3. Focus on Regional Content Expansion**  \n",
        "- **US-based content dominates**, while other regions have minimal representation.  \n",
        "- Investing in **localized content for different markets** (e.g., India, Latin America) can help **increase global subscriber count**.  \n",
        "\n",
        "#### **4. Improve Content Quality**  \n",
        "- IMDb ratings have **declined over time**, signaling **potential quality issues**.  \n",
        "- Prioritize **high-quality storytelling** over volume production.  \n",
        "\n",
        "#### **5. Leverage Popularity Metrics**  \n",
        "- Some highly popular titles **do not necessarily have high IMDb scores**, indicating that **marketing, branding, and cast selection impact engagement**.  \n",
        "- **Strategic promotion and partnerships** can enhance visibility for new content.  \n",
        "\n",
        "#### **6. Maintain a Balanced Content Mix**  \n",
        "- Most movies range between **90-120 minutes**, aligning with industry norms.  \n",
        "- A mix of **short-form content (e.g., miniseries) and long-form content (e.g., multi-season shows)** can cater to **diverse viewer preferences**.  \n",
        "\n",
        "#### **7. Data-Driven Decision Making**  \n",
        "- Use **viewer engagement data, ratings, and regional preferences** to make **smarter content investments**.  \n",
        "- Conduct **A/B testing for promotional strategies** to optimize audience reach.  \n",
        "\n",
        "### **Conclusion**  \n",
        "By implementing these strategies, Amazon Prime can **enhance its content portfolio, improve customer satisfaction, and drive long-term growth in the competitive streaming industry**."
      ],
      "metadata": {
        "id": "pASKb0qOza21"
      }
    },
    {
      "cell_type": "markdown",
      "source": [
        "# **Conclusion**"
      ],
      "metadata": {
        "id": "gCX9965dhzqZ"
      }
    },
    {
      "cell_type": "markdown",
      "source": [
        "### **Conclusion**  \n",
        "\n",
        "This Exploratory Data Analysis (EDA) of Amazon Prime’s content catalog provides key insights into content diversity, regional availability, audience preferences, and factors influencing ratings and popularity.  \n",
        "\n",
        "#### **Key Takeaways:**  \n",
        "1. **Content Strategy:**  \n",
        "   - The platform is **heavily movie-focused**, but TV shows have **higher ratings and engagement**.  \n",
        "   - Investing in **more TV shows and original series** can improve retention.  \n",
        "\n",
        "2. **Genre & Audience Preferences:**  \n",
        "   - **Drama and Comedy dominate**, while **Sci-Fi and Horror are underrepresented**.  \n",
        "   - Expanding niche genres can **attract diverse audiences**.  \n",
        "\n",
        "3. **Regional Growth Potential:**  \n",
        "   - The content library is **dominated by US-based productions**, with **low representation in other markets**.  \n",
        "   - Increasing **regional content investments** can help in **subscriber expansion globally**.  \n",
        "\n",
        "4. **Ratings & Quality Control:**  \n",
        "   - IMDb ratings have **declined over the years**, suggesting **potential content dilution**.  \n",
        "   - Prioritizing **high-quality productions** over sheer quantity will **enhance audience trust**.  \n",
        "\n",
        "5. **Marketing & Popularity Trends:**  \n",
        "   - Some **popular titles have low IMDb ratings**, showing that **marketing, branding, and cast selection influence engagement**.  \n",
        "   - **Strategic promotions and partnerships** can maximize viewership.  \n",
        "\n",
        "### **Final Recommendation:**  \n",
        "To maintain its **competitive edge in the streaming industry**, Amazon Prime must:  \n",
        "✅ Expand its **TV show offerings** for better engagement.  \n",
        "✅ Diversify into **underrepresented genres** like **Sci-Fi and Horror**.  \n",
        "✅ Strengthen **regional content strategies** to **appeal to global audiences**.  \n",
        "✅ Ensure **higher content quality** to maintain strong ratings.  \n",
        "✅ Use **data-driven decisions** for content acquisition, promotions, and investments.  \n",
        "\n",
        "By focusing on these strategies, Amazon Prime can **enhance customer satisfaction, boost engagement, and drive long-term subscription growth** in an increasingly competitive market."
      ],
      "metadata": {
        "id": "Fjb1IsQkh3yE"
      }
    },
    {
      "cell_type": "markdown",
      "source": [
        "### ***Hurrah! You have successfully completed your EDA Capstone Project !!!***"
      ],
      "metadata": {
        "id": "gIfDvo9L0UH2"
      }
    }
  ]
}